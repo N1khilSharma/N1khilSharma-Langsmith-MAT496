{
 "cells": [
  {
   "cell_type": "markdown",
   "metadata": {},
   "source": [
    "# Tracing for Different Types of Runs"
   ]
  },
  {
   "cell_type": "markdown",
   "metadata": {},
   "source": [
    "### Types of Runs"
   ]
  },
  {
   "cell_type": "markdown",
   "metadata": {},
   "source": [
    "LangSmith supports many different types of Runs - you can specify what type your Run is in the @traceable decorator. The types of runs are:\n",
    "\n",
    "- LLM: Invokes an LLM\n",
    "- Retriever: Retrieves documents from databases or other sources\n",
    "- Tool: Executes actions with function calls\n",
    "- Chain: Default type; combines multiple Runs into a larger process\n",
    "- Prompt: Hydrates a prompt to be used with an LLM\n",
    "- Parser: Extracts structured data"
   ]
  },
  {
   "cell_type": "markdown",
   "metadata": {},
   "source": [
    "### Setup"
   ]
  },
  {
   "cell_type": "code",
   "execution_count": null,
   "metadata": {},
   "outputs": [],
   "source": [
    "# Or you can use a .env file\n",
    "from dotenv import load_dotenv\n",
    "load_dotenv()"
   ]
  },
  {
   "cell_type": "markdown",
   "metadata": {},
   "source": [
    "### LLM Runs for Chat Models"
   ]
  },
  {
   "cell_type": "markdown",
   "metadata": {},
   "source": [
    "LangSmith provides special rendering and processing for LLM traces. In order to make the most of this feature, you must log your LLM traces in a specific format."
   ]
  },
  {
   "cell_type": "markdown",
   "metadata": {},
   "source": [
    "For chat-style models, inputs must be a list of messages in OpenAI-compatible format, represented as Python dictionaries or TypeScript object. Each message must contain the key role and content.\n",
    "\n",
    "The output is accepted in any of the following formats:\n",
    "\n",
    "- A dictionary/object that contains the key choices with a value that is a list of dictionaries/objects. Each dictionary/object must contain the key message, which maps to a message object with the keys role and content.\n",
    "- A dictionary/object that contains the key message with a value that is a message object with the keys role and content.\n",
    "- A tuple/array of two elements, where the first element is the role and the second element is the content.\n",
    "- A dictionary/object that contains the key role and content.\n",
    "The input to your function should be named messages.\n",
    "\n",
    "You can also provide the following metadata fields to help LangSmith identify the model and calculate costs. If using LangChain or OpenAI wrapper, these fields will be automatically populated correctly.\n",
    "- ls_provider: The provider of the model, eg \"openai\", \"anthropic\", etc.\n",
    "- ls_model_name: The name of the model, eg \"gpt-4o-mini\", \"claude-3-opus-20240307\", etc."
   ]
  },
  {
   "cell_type": "code",
   "execution_count": 7,
   "metadata": {},
   "outputs": [
    {
     "data": {
      "text/plain": [
       "{'choices': [{'message': {'role': 'assistant',\n",
       "    'content': 'Sure, what time would you like to book the table for?'}}]}"
      ]
     },
     "execution_count": 7,
     "metadata": {},
     "output_type": "execute_result"
    }
   ],
   "source": [
    "from langsmith import traceable\n",
    "\n",
    "inputs = [\n",
    "  {\"role\": \"system\", \"content\": \"You are a helpful assistant.\"},\n",
    "  {\"role\": \"user\", \"content\": \"I'd like to book a table for two.\"},\n",
    "]\n",
    "\n",
    "output = {\n",
    "  \"choices\": [\n",
    "      {\n",
    "          \"message\": {\n",
    "              \"role\": \"assistant\",\n",
    "              \"content\": \"Sure, what time would you like to book the table for?\"\n",
    "          }\n",
    "      }\n",
    "  ]\n",
    "}\n",
    "\n",
    "# Can also use one of:\n",
    "# output = {\n",
    "#     \"message\": {\n",
    "#         \"role\": \"assistant\",\n",
    "#         \"content\": \"Sure, what time would you like to book the table for?\"\n",
    "#     }\n",
    "# }\n",
    "#\n",
    "# output = {\n",
    "#     \"role\": \"assistant\",\n",
    "#     \"content\": \"Sure, what time would you like to book the table for?\"\n",
    "# }\n",
    "#\n",
    "# output = [\"assistant\", \"Sure, what time would you like to book the table for?\"]\n",
    "\n",
    "@traceable(\n",
    "  # TODO: Add an run_type=\"llm\", and metadata for ls_provider, and ls_model_name\n",
    ")\n",
    "def chat_model(messages: list):\n",
    "  return output\n",
    "\n",
    "chat_model(inputs)"
   ]
  },
  {
   "cell_type": "markdown",
   "metadata": {},
   "source": [
    "### Handling Streaming LLM Runs"
   ]
  },
  {
   "cell_type": "markdown",
   "metadata": {},
   "source": [
    "For streaming, you can \"reduce\" the outputs into the same format as the non-streaming version. This is currently only supported in Python."
   ]
  },
  {
   "cell_type": "code",
   "execution_count": 11,
   "metadata": {},
   "outputs": [
    {
     "data": {
      "text/plain": [
       "[{'choices': [{'message': {'content': 'Hello, polly the parrot',\n",
       "     'role': 'assistant'}}]}]"
      ]
     },
     "execution_count": 11,
     "metadata": {},
     "output_type": "execute_result"
    }
   ],
   "source": [
    "def _reduce_chunks(chunks: list):\n",
    "    all_text = \"\".join([chunk[\"choices\"][0][\"message\"][\"content\"] for chunk in chunks])\n",
    "    return {\"choices\": [{\"message\": {\"content\": all_text, \"role\": \"assistant\"}}]}\n",
    "\n",
    "@traceable(\n",
    "    run_type=\"llm\",\n",
    "    metadata={\"ls_provider\": \"my_provider\", \"ls_model_name\": \"my_model\"},\n",
    "    # TODO: Add a reduce_fn\n",
    ")\n",
    "def my_streaming_chat_model(messages: list):\n",
    "    for chunk in [\"Hello, \" + messages[1][\"content\"]]:\n",
    "        yield {\n",
    "            \"choices\": [\n",
    "                {\n",
    "                    \"message\": {\n",
    "                        \"content\": chunk,\n",
    "                        \"role\": \"assistant\",\n",
    "                    }\n",
    "                }\n",
    "            ]\n",
    "        }\n",
    "\n",
    "list(\n",
    "    my_streaming_chat_model(\n",
    "        [\n",
    "            {\"role\": \"system\", \"content\": \"You are a helpful assistant. Please greet the user.\"},\n",
    "            {\"role\": \"user\", \"content\": \"polly the parrot\"},\n",
    "        ],\n",
    "    )\n",
    ")"
   ]
  },
  {
   "cell_type": "markdown",
   "metadata": {},
   "source": [
    "### Retriever Runs + Documents"
   ]
  },
  {
   "cell_type": "markdown",
   "metadata": {},
   "source": [
    "Many LLM applications require looking up documents from vector databases, knowledge graphs, or other types of indexes. Retriever traces are a way to log the documents that are retrieved by the retriever. LangSmith provides special rendering for retrieval steps in traces to make it easier to understand and diagnose retrieval issues. In order for retrieval steps to be rendered correctly, a few small steps need to be taken.\n",
    "\n",
    "1. Annotate the retriever step with run_type=\"retriever\".\n",
    "2. Return a list of Python dictionaries or TypeScript objects from the retriever step. Each dictionary should contain the following keys:\n",
    "    - page_content: The text of the document.\n",
    "    - type: This should always be \"Document\".\n",
    "    - metadata: A python dictionary or TypeScript object containing metadata about the document. This metadata will be displayed in the trace."
   ]
  },
  {
   "cell_type": "code",
   "execution_count": null,
   "metadata": {},
   "outputs": [],
   "source": [
    "from langsmith import traceable\n",
    "\n",
    "def _convert_docs(results):\n",
    "  return [\n",
    "      {\n",
    "          \"page_content\": r,\n",
    "          \"type\": \"Document\", # This is the wrong format! The key should be type\n",
    "          \"metadata\": {\"foo\": \"bar\"}\n",
    "      }\n",
    "      for r in results\n",
    "  ]\n",
    "\n",
    "@traceable(\n",
    "    # TODO: Add an run_type=\"retriever\"\n",
    ")\n",
    "def retrieve_docs(query):\n",
    "  # Retriever returning hardcoded dummy documents.\n",
    "  # In production, this could be a real vector datatabase or other document index.\n",
    "  contents = [\"Document contents 1\", \"Document contents 2\", \"Document contents 3\"]\n",
    "  return _convert_docs(contents)\n",
    "\n",
    "retrieve_docs(\"User query\")"
   ]
  },
  {
   "cell_type": "markdown",
   "metadata": {},
   "source": [
    "### Tool Calling"
   ]
  },
  {
   "cell_type": "markdown",
   "metadata": {},
   "source": [
    "LangSmith has custom rendering for Tool Calls made by the model to make it clear when provided tools are being used."
   ]
  },
  {
   "cell_type": "code",
   "execution_count": 10,
   "metadata": {},
   "outputs": [
    {
     "data": {
      "text/plain": [
       "ChatCompletion(id='chatcmpl-CLWktJ5M0YbYrmXtcFAbIyWywZU9k', choices=[Choice(finish_reason='stop', index=0, logprobs=None, message=ChatCompletionMessage(content='The current temperature in Gurgaon is 17°C. If you need more specific weather details, such as humidity or forecast, let me know!', refusal=None, role='assistant', annotations=[], audio=None, function_call=None, tool_calls=None))], created=1759246835, model='gpt-4o-mini-2024-07-18', object='chat.completion', service_tier='default', system_fingerprint='fp_560af6e559', usage=CompletionUsage(completion_tokens=28, prompt_tokens=81, total_tokens=109, completion_tokens_details=CompletionTokensDetails(accepted_prediction_tokens=0, audio_tokens=0, reasoning_tokens=0, rejected_prediction_tokens=0), prompt_tokens_details=PromptTokensDetails(audio_tokens=0, cached_tokens=0)))"
      ]
     },
     "execution_count": 10,
     "metadata": {},
     "output_type": "execute_result"
    }
   ],
   "source": [
    "from langsmith import traceable\n",
    "from openai import OpenAI\n",
    "from typing import List, Optional\n",
    "import json\n",
    "\n",
    "openai_client = OpenAI()\n",
    "\n",
    "@traceable(\n",
    "  # TODO: Add an run_type=\"tool\"\n",
    ")\n",
    "def get_current_temperature(location: str, unit: str):\n",
    "    return 65 if unit == \"Fahrenheit\" else 17\n",
    "\n",
    "@traceable(run_type=\"llm\")\n",
    "def call_openai(\n",
    "    messages: List[dict], tools: Optional[List[dict]]\n",
    ") -> str:\n",
    "  return openai_client.chat.completions.create(\n",
    "    model=\"gpt-4o-mini\",\n",
    "    messages=messages,\n",
    "    temperature=0,\n",
    "    tools=tools\n",
    "  )\n",
    "\n",
    "@traceable(run_type=\"chain\")\n",
    "def ask_about_the_weather(inputs, tools):\n",
    "  response = call_openai(inputs, tools)\n",
    "  tool_call_args = json.loads(response.choices[0].message.tool_calls[0].function.arguments)\n",
    "  location = tool_call_args[\"location\"]\n",
    "  unit = tool_call_args[\"unit\"]\n",
    "  tool_response_message = {\n",
    "    \"role\": \"tool\",\n",
    "    \"content\": json.dumps({\n",
    "        \"location\": location,\n",
    "        \"unit\": unit,\n",
    "        \"temperature\": get_current_temperature(location, unit),\n",
    "    }),\n",
    "    \"tool_call_id\": response.choices[0].message.tool_calls[0].id\n",
    "  }\n",
    "  inputs.append(response.choices[0].message)\n",
    "  inputs.append(tool_response_message)\n",
    "  output = call_openai(inputs, None)\n",
    "  return output\n",
    "\n",
    "tools = [\n",
    "    {\n",
    "      \"type\": \"function\",\n",
    "      \"function\": {\n",
    "        \"name\": \"get_current_temperature\",\n",
    "        \"description\": \"Get the current temperature for a specific location and also tell some weather hazards\",\n",
    "        \"parameters\": {\n",
    "          \"type\": \"object\",\n",
    "          \"properties\": {\n",
    "            \"location\": {\n",
    "              \"type\": \"string\",\n",
    "              \"description\": \"The city and state, e.g., San Francisco, CA\"\n",
    "            },\n",
    "            \"unit\": {\n",
    "              \"type\": \"string\",\n",
    "              \"enum\": [\"Celsius\", \"Fahrenheit\"],\n",
    "              \"description\": \"The temperature unit to use. Infer this from the user's location.\"\n",
    "            }\n",
    "          },\n",
    "          \"required\": [\"location\", \"unit\"]\n",
    "        }\n",
    "      }\n",
    "    }\n",
    "]\n",
    "inputs = [\n",
    "  {\"role\": \"system\", \"content\": \"You are a helpful assistant.\"},\n",
    "  {\"role\": \"user\", \"content\": \"What is the weather today in Gurgaon?\"},\n",
    "]\n",
    "\n",
    "ask_about_the_weather(inputs, tools)"
   ]
  },
  {
   "cell_type": "code",
   "execution_count": null,
   "metadata": {},
   "outputs": [
    {
     "name": "stdout",
     "output_type": "stream",
     "text": [
      "🔹 LLM: {'choices': [{'message': {'role': 'assistant', 'content': \"I understood: 'Hello AI'\"}}]}\n",
      "🔹 Retriever: ['Doc1: Info about LangSmith', 'Doc2: More info on LangSmith']\n",
      "🔹 Tool: 12\n",
      "🔹 Prompt: System Prompt: You must always answer politely. User said: Tell me a joke\n",
      "🔹 Parser: {'parsed_number': 42}\n",
      "🔹 Chain: {'docs': ['Doc1: Info about LangSmith tracing', 'Doc2: More info on LangSmith tracing'], 'calc': 5, 'llm': {'choices': [{'message': {'role': 'assistant', 'content': \"I understood: 'Summarize: ['Doc1: Info about LangSmith tracing', 'Doc2: More info on LangSmith tracing'] and add 2+3=5'\"}}]}}\n"
     ]
    }
   ],
   "source": [
    "from langsmith import traceable\n",
    "\n",
    "#Added this cell of code to trace all run types together\n",
    "\n",
    "# -----------------------------\n",
    "# LLM Run\n",
    "# -----------------------------\n",
    "@traceable(run_type=\"llm\", metadata={\"ls_provider\": \"openai\", \"ls_model_name\": \"gpt-4o-mini\"})\n",
    "def llm_run(messages: list):\n",
    "    return {\n",
    "        \"choices\": [{\n",
    "            \"message\": {\n",
    "                \"role\": \"assistant\",\n",
    "                \"content\": f\"I understood: '{messages[-1]['content']}'\"\n",
    "            }\n",
    "        }]\n",
    "    }\n",
    "\n",
    "# -----------------------------\n",
    "# Retriever Run\n",
    "# -----------------------------\n",
    "@traceable(run_type=\"retriever\")\n",
    "def retriever_run(query: str):\n",
    "    return [f\"Doc1: Info about {query}\", f\"Doc2: More info on {query}\"]\n",
    "\n",
    "# -----------------------------\n",
    "# Tool Run\n",
    "# -----------------------------\n",
    "@traceable(run_type=\"tool\")\n",
    "def tool_run(x: int, y: int):\n",
    "    return x + y\n",
    "\n",
    "# -----------------------------\n",
    "# Prompt Run\n",
    "# -----------------------------\n",
    "@traceable(run_type=\"prompt\")\n",
    "def prompt_run(user_input: str):\n",
    "    return f\"System Prompt: You must always answer politely. User said: {user_input}\"\n",
    "\n",
    "# -----------------------------\n",
    "# Parser Run\n",
    "# -----------------------------\n",
    "@traceable(run_type=\"parser\")\n",
    "def parser_run(text: str):\n",
    "    return {\"parsed_number\": int(\"\".join(filter(str.isdigit, text)))}\n",
    "\n",
    "# -----------------------------\n",
    "# Chain Run (Combining others)\n",
    "# -----------------------------\n",
    "@traceable(run_type=\"chain\")\n",
    "def chain_run(query: str):\n",
    "    docs = retriever_run(query)\n",
    "    calc = tool_run(2, 3)\n",
    "    llm_resp = llm_run([{\"role\": \"user\", \"content\": f\"Summarize: {docs} and add 2+3={calc}\"}])\n",
    "    return {\"docs\": docs, \"calc\": calc, \"llm\": llm_resp}\n",
    "\n",
    "# -----------------------------\n",
    "# Run Everything\n",
    "# -----------------------------\n",
    "print(\"🔹 LLM:\", llm_run([{\"role\": \"user\", \"content\": \"Hello AI\"}]))\n",
    "print(\"🔹 Retriever:\", retriever_run(\"LangSmith\"))\n",
    "print(\"🔹 Tool:\", tool_run(5, 7))\n",
    "print(\"🔹 Prompt:\", prompt_run(\"Tell me a joke\"))\n",
    "print(\"🔹 Parser:\", parser_run(\"The answer is 42!\"))\n",
    "print(\"🔹 Chain:\", chain_run(\"LangSmith tracing\"))\n"
   ]
  }
 ],
 "metadata": {
  "kernelspec": {
   "display_name": "base",
   "language": "python",
   "name": "python3"
  },
  "language_info": {
   "codemirror_mode": {
    "name": "ipython",
    "version": 3
   },
   "file_extension": ".py",
   "mimetype": "text/x-python",
   "name": "python",
   "nbconvert_exporter": "python",
   "pygments_lexer": "ipython3",
   "version": "3.13.5"
  }
 },
 "nbformat": 4,
 "nbformat_minor": 4
}
